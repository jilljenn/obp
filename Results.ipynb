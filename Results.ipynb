{
 "cells": [
  {
   "cell_type": "code",
   "execution_count": 91,
   "id": "68a8a3d9",
   "metadata": {},
   "outputs": [],
   "source": [
    "import pandas as pd\n",
    "import pickle\n",
    "\n",
    "DATA = 'assistments'\n",
    "# DATA = 'robo'\n",
    "CONTEXT = 'elo'\n",
    "# CONTEXT = 'minimax'\n",
    "\n",
    "def load_p(filename):\n",
    "    with open(f'{filename}.pickle', 'rb') as f:\n",
    "        return pickle.load(f)\n",
    "\n",
    "backup = load_p(f'{DATA}-{CONTEXT}-new')"
   ]
  },
  {
   "cell_type": "code",
   "execution_count": 92,
   "id": "92a6e702",
   "metadata": {},
   "outputs": [],
   "source": [
    "# backup['policies'][-1] = backup['policies'][-1][0]"
   ]
  },
  {
   "cell_type": "code",
   "execution_count": 93,
   "id": "a93067bc",
   "metadata": {},
   "outputs": [],
   "source": [
    "backup['feedback']['position'] = backup['feedback']['position'].astype(int)"
   ]
  },
  {
   "cell_type": "code",
   "execution_count": 94,
   "id": "da3ec156",
   "metadata": {},
   "outputs": [
    {
     "data": {
      "text/plain": [
       "['Optimal IPW', 'GBDT', 'Behavior', 'Closestmiddle', 'Random', 'Optimal IRT']"
      ]
     },
     "execution_count": 94,
     "metadata": {},
     "output_type": "execute_result"
    }
   ],
   "source": [
    "policy_names = [name for name, _ in backup['policies']]\n",
    "policy_names"
   ]
  },
  {
   "cell_type": "code",
   "execution_count": 95,
   "id": "88c61d7e",
   "metadata": {},
   "outputs": [
    {
     "data": {
      "text/plain": [
       "['Optimal IPW', 'GBDT', 'Optimal IRT', 'Closestmiddle', 'Random', 'Behavior']"
      ]
     },
     "execution_count": 95,
     "metadata": {},
     "output_type": "execute_result"
    }
   ],
   "source": [
    "policy_order = ['Optimal IPW', 'GBDT', 'Optimal IRT', 'Closestmiddle', 'Random', 'Behavior']\n",
    "policy_title = {\n",
    "    'Optimal IPW': 'Optimal IPW',\n",
    "    'GBDT': 'Optimal GBDT',\n",
    "    'Optimal IRT': 'Optimal IRT',\n",
    "    'Closestmiddle': 'Closest to 50%',\n",
    "    'Random': 'Random',\n",
    "    'Behavior': 'Behavior policy'\n",
    "}\n",
    "if CONTEXT == 'minimax':\n",
    "    policy_order.remove('Optimal IRT')\n",
    "policy_order"
   ]
  },
  {
   "cell_type": "code",
   "execution_count": 96,
   "id": "745dfa9b",
   "metadata": {},
   "outputs": [],
   "source": [
    "\n",
    "MINIMAX = ['min_context', 'max_context', 'prev_outcome']\n",
    "\n",
    "# df = pd.read_csv('robo-minimax.csv')\n",
    "# df.head()"
   ]
  },
  {
   "cell_type": "code",
   "execution_count": 97,
   "id": "8c359fcf",
   "metadata": {},
   "outputs": [],
   "source": [
    "# backup['feedback']['pscore'].max()"
   ]
  },
  {
   "cell_type": "code",
   "execution_count": 98,
   "id": "40f3cf44",
   "metadata": {},
   "outputs": [
    {
     "name": "stdout",
     "output_type": "stream",
     "text": [
      "(           estimated_policy_value  relative_estimated_policy_value\n",
      "ipw                      9.615910                         1.448814\n",
      "dm                       8.387364                         1.263711\n",
      "dr                       9.613630                         1.448470\n",
      "switch-dr                9.613630                         1.448470\n",
      "snipw                    9.615910                         1.448814,                mean  95.0% CI (lower)  95.0% CI (upper)\n",
      "ipw        9.591253          9.265851          9.933844\n",
      "dm         8.387616          8.382401          8.392696\n",
      "dr         9.604341          9.493613          9.720135\n",
      "switch-dr  9.604341          9.493613          9.720135\n",
      "snipw      9.591253          9.265851          9.933844)\n",
      "               mean  95.0% CI (lower)  95.0% CI (upper)\n",
      "ipw        9.591253          9.265851          9.933844\n",
      "dm         8.387616          8.382401          8.392696\n",
      "dr         9.604341          9.493613          9.720135\n",
      "switch-dr  9.604341          9.493613          9.720135\n",
      "snipw      9.591253          9.265851          9.933844\n",
      "{'ipw': 9.61591019826766, 'dm': 8.387364019645013, 'dr': 9.613629593431291, 'switch-dr': 9.613629593431291, 'snipw': 9.615910198267665}\n",
      "^ Optimal IPW\n",
      "(           estimated_policy_value  relative_estimated_policy_value\n",
      "ipw                      8.803975                         1.326481\n",
      "dm                       8.544565                         1.287396\n",
      "dr                       8.796933                         1.325420\n",
      "switch-dr                8.796933                         1.325420\n",
      "snipw                    8.816907                         1.328429,                mean  95.0% CI (lower)  95.0% CI (upper)\n",
      "ipw        8.819035          8.548759          9.178414\n",
      "dm         8.544824          8.539814          8.548732\n",
      "dr         8.793981          8.720384          8.901329\n",
      "switch-dr  8.793981          8.720384          8.901329\n",
      "snipw      8.831989          8.561316          9.191896)\n",
      "               mean  95.0% CI (lower)  95.0% CI (upper)\n",
      "ipw        8.819035          8.548759          9.178414\n",
      "dm         8.544824          8.539814          8.548732\n",
      "dr         8.793981          8.720384          8.901329\n",
      "switch-dr  8.793981          8.720384          8.901329\n",
      "snipw      8.831989          8.561316          9.191896\n",
      "{'ipw': 8.803974631477278, 'dm': 8.54456495249942, 'dr': 8.796933343037729, 'switch-dr': 8.796933343037729, 'snipw': 8.816906776071912}\n",
      "^ GBDT\n",
      "(           estimated_policy_value  relative_estimated_policy_value\n",
      "ipw                      6.637092                         1.000000\n",
      "dm                       6.637168                         1.000011\n",
      "dr                       6.637168                         1.000011\n",
      "switch-dr                6.637168                         1.000011\n",
      "snipw                    6.637092                         1.000000,                mean  95.0% CI (lower)  95.0% CI (upper)\n",
      "ipw        6.637268          6.612733          6.655085\n",
      "dm         6.637490          6.631966          6.642229\n",
      "dr         6.637325          6.613977          6.653677\n",
      "switch-dr  6.637325          6.613977          6.653677\n",
      "snipw      6.637268          6.612733          6.655085)\n",
      "               mean  95.0% CI (lower)  95.0% CI (upper)\n",
      "ipw        6.637268          6.612733          6.655085\n",
      "dm         6.637490          6.631966          6.642229\n",
      "dr         6.637325          6.613977          6.653677\n",
      "switch-dr  6.637325          6.613977          6.653677\n",
      "snipw      6.637268          6.612733          6.655085\n",
      "{'ipw': 6.6370920688892845, 'dm': 6.637167873483517, 'dr': 6.637167873483517, 'switch-dr': 6.637167873483517, 'snipw': 6.6370920688892845}\n",
      "^ Behavior\n",
      "(           estimated_policy_value  relative_estimated_policy_value\n",
      "ipw                      6.373010                         0.960211\n",
      "dm                       6.317292                         0.951816\n",
      "dr                       6.461590                         0.973557\n",
      "switch-dr                6.461590                         0.973557\n",
      "snipw                    6.485787                         0.977203,                mean  95.0% CI (lower)  95.0% CI (upper)\n",
      "ipw        6.365240          6.078628          6.690284\n",
      "dm         6.317400          6.313661          6.320485\n",
      "dr         6.465333          6.276131          6.617620\n",
      "switch-dr  6.465333          6.276131          6.617620\n",
      "snipw      6.477880          6.186196          6.808676)\n",
      "               mean  95.0% CI (lower)  95.0% CI (upper)\n",
      "ipw        6.365240          6.078628          6.690284\n",
      "dm         6.317400          6.313661          6.320485\n",
      "dr         6.465333          6.276131          6.617620\n",
      "switch-dr  6.465333          6.276131          6.617620\n",
      "snipw      6.477880          6.186196          6.808676\n",
      "{'ipw': 6.373009548949798, 'dm': 6.317292290573799, 'dr': 6.461589723975024, 'switch-dr': 6.461589723975024, 'snipw': 6.485787109654778}\n",
      "^ Closestmiddle\n",
      "(           estimated_policy_value  relative_estimated_policy_value\n",
      "ipw                      6.606735                         0.995426\n",
      "dm                       6.618319                         0.997171\n",
      "dr                       6.617283                         0.997015\n",
      "switch-dr                6.617283                         0.997015\n",
      "snipw                    6.643362                         1.000945,                mean  95.0% CI (lower)  95.0% CI (upper)\n",
      "ipw        6.606349          6.581844          6.627280\n",
      "dm         6.618720          6.612206          6.624458\n",
      "dr         6.617187          6.594877          6.632588\n",
      "switch-dr  6.617187          6.594877          6.632588\n",
      "snipw      6.642973          6.618333          6.664021)\n",
      "               mean  95.0% CI (lower)  95.0% CI (upper)\n",
      "ipw        6.606349          6.581844          6.627280\n",
      "dm         6.618720          6.612206          6.624458\n",
      "dr         6.617187          6.594877          6.632588\n",
      "switch-dr  6.617187          6.594877          6.632588\n",
      "snipw      6.642973          6.618333          6.664021\n",
      "{'ipw': 6.60673524928578, 'dm': 6.618318782594099, 'dr': 6.617282627877605, 'switch-dr': 6.617282627877605, 'snipw': 6.6433622420458125}\n",
      "^ Random\n",
      "(           estimated_policy_value  relative_estimated_policy_value\n",
      "ipw                      8.668609                         1.306085\n",
      "dm                       8.516017                         1.283095\n",
      "dr                       8.636113                         1.301189\n",
      "switch-dr                8.636113                         1.301189\n",
      "snipw                    8.683120                         1.308272,                mean  95.0% CI (lower)  95.0% CI (upper)\n",
      "ipw        8.646032          8.313467          8.962686\n",
      "dm         8.516306          8.511262          8.520435\n",
      "dr         8.632485          8.516925          8.742185\n",
      "switch-dr  8.632485          8.516925          8.742185\n",
      "snipw      8.660504          8.327383          8.977689)\n",
      "               mean  95.0% CI (lower)  95.0% CI (upper)\n",
      "ipw        8.646032          8.313467          8.962686\n",
      "dm         8.516306          8.511262          8.520435\n",
      "dr         8.632485          8.516925          8.742185\n",
      "switch-dr  8.632485          8.516925          8.742185\n",
      "snipw      8.660504          8.327383          8.977689\n",
      "{'ipw': 8.668609145437806, 'dm': 8.516016585948242, 'dr': 8.636113263955247, 'switch-dr': 8.636113263955247, 'snipw': 8.683119644951462}\n",
      "^ Optimal IRT\n"
     ]
    }
   ],
   "source": [
    "from obp.ope import (\n",
    "    OffPolicyEvaluation,\n",
    "    RegressionModel,\n",
    "    InverseProbabilityWeighting as IPW,\n",
    "    DirectMethod as DM,\n",
    "    DoublyRobust as DR,\n",
    "    SelfNormalizedInverseProbabilityWeighting as SNIPW,\n",
    "    SwitchDoublyRobust as SDR,\n",
    ")\n",
    "\n",
    "ope = OffPolicyEvaluation(\n",
    "    bandit_feedback=backup['feedback'],\n",
    "    ope_estimators=[IPW(), DM(), DR(), SDR(), SNIPW()]\n",
    ")\n",
    "\n",
    "results = {}\n",
    "for name, actions in backup['policies']:\n",
    "    \"\"\"ope.visualize_off_policy_estimates(\n",
    "        action_dist=actions,\n",
    "        estimated_rewards_by_reg_model=estimated_rewards_by_reg_model,\n",
    "        n_bootstrap_samples=100\n",
    "    )\"\"\"\n",
    "    \n",
    "    # Recompute pscores (no need)\n",
    "    \n",
    "    bundle = ope.summarize_off_policy_estimates(\n",
    "        action_dist=actions,\n",
    "        estimated_rewards_by_reg_model=backup['estimated_rewards_by_reg_model'],\n",
    "        random_state=42\n",
    "    )\n",
    "    print(bundle)\n",
    "    results[name] = bundle[1]\n",
    "    print(results[name])\n",
    "    print(ope.estimate_policy_values(\n",
    "        action_dist=actions,\n",
    "        estimated_rewards_by_reg_model=backup['estimated_rewards_by_reg_model'],\n",
    "    ))\n",
    "    print(f\"^ {name}\")"
   ]
  },
  {
   "cell_type": "code",
   "execution_count": 99,
   "id": "e3cc2c2b",
   "metadata": {},
   "outputs": [
    {
     "data": {
      "text/html": [
       "<div>\n",
       "<style scoped>\n",
       "    .dataframe tbody tr th:only-of-type {\n",
       "        vertical-align: middle;\n",
       "    }\n",
       "\n",
       "    .dataframe tbody tr th {\n",
       "        vertical-align: top;\n",
       "    }\n",
       "\n",
       "    .dataframe thead th {\n",
       "        text-align: right;\n",
       "    }\n",
       "</style>\n",
       "<table border=\"1\" class=\"dataframe\">\n",
       "  <thead>\n",
       "    <tr style=\"text-align: right;\">\n",
       "      <th></th>\n",
       "      <th>Optimal IPW</th>\n",
       "      <th>Optimal IPW_lower</th>\n",
       "      <th>Optimal IPW_upper</th>\n",
       "      <th>GBDT</th>\n",
       "      <th>GBDT_lower</th>\n",
       "      <th>GBDT_upper</th>\n",
       "      <th>Optimal IRT</th>\n",
       "      <th>Optimal IRT_lower</th>\n",
       "      <th>Optimal IRT_upper</th>\n",
       "      <th>Closestmiddle</th>\n",
       "      <th>Closestmiddle_lower</th>\n",
       "      <th>Closestmiddle_upper</th>\n",
       "      <th>Random</th>\n",
       "      <th>Random_lower</th>\n",
       "      <th>Random_upper</th>\n",
       "      <th>Behavior</th>\n",
       "      <th>Behavior_lower</th>\n",
       "      <th>Behavior_upper</th>\n",
       "    </tr>\n",
       "  </thead>\n",
       "  <tbody>\n",
       "    <tr>\n",
       "      <th>ipw</th>\n",
       "      <td>9.591253</td>\n",
       "      <td>0.325402</td>\n",
       "      <td>0.342591</td>\n",
       "      <td>8.819035</td>\n",
       "      <td>0.270277</td>\n",
       "      <td>0.359379</td>\n",
       "      <td>8.646032</td>\n",
       "      <td>0.332565</td>\n",
       "      <td>0.316655</td>\n",
       "      <td>6.365240</td>\n",
       "      <td>0.286612</td>\n",
       "      <td>0.325044</td>\n",
       "      <td>6.606349</td>\n",
       "      <td>0.024505</td>\n",
       "      <td>0.020932</td>\n",
       "      <td>6.637268</td>\n",
       "      <td>0.024535</td>\n",
       "      <td>0.017818</td>\n",
       "    </tr>\n",
       "    <tr>\n",
       "      <th>dm</th>\n",
       "      <td>8.387616</td>\n",
       "      <td>0.005214</td>\n",
       "      <td>0.005080</td>\n",
       "      <td>8.544824</td>\n",
       "      <td>0.005010</td>\n",
       "      <td>0.003908</td>\n",
       "      <td>8.516306</td>\n",
       "      <td>0.005044</td>\n",
       "      <td>0.004129</td>\n",
       "      <td>6.317400</td>\n",
       "      <td>0.003739</td>\n",
       "      <td>0.003085</td>\n",
       "      <td>6.618720</td>\n",
       "      <td>0.006514</td>\n",
       "      <td>0.005738</td>\n",
       "      <td>6.637490</td>\n",
       "      <td>0.005525</td>\n",
       "      <td>0.004738</td>\n",
       "    </tr>\n",
       "    <tr>\n",
       "      <th>dr</th>\n",
       "      <td>9.604341</td>\n",
       "      <td>0.110728</td>\n",
       "      <td>0.115794</td>\n",
       "      <td>8.793981</td>\n",
       "      <td>0.073597</td>\n",
       "      <td>0.107347</td>\n",
       "      <td>8.632485</td>\n",
       "      <td>0.115561</td>\n",
       "      <td>0.109700</td>\n",
       "      <td>6.465333</td>\n",
       "      <td>0.189202</td>\n",
       "      <td>0.152287</td>\n",
       "      <td>6.617187</td>\n",
       "      <td>0.022310</td>\n",
       "      <td>0.015401</td>\n",
       "      <td>6.637325</td>\n",
       "      <td>0.023348</td>\n",
       "      <td>0.016352</td>\n",
       "    </tr>\n",
       "    <tr>\n",
       "      <th>switch-dr</th>\n",
       "      <td>9.604341</td>\n",
       "      <td>0.110728</td>\n",
       "      <td>0.115794</td>\n",
       "      <td>8.793981</td>\n",
       "      <td>0.073597</td>\n",
       "      <td>0.107347</td>\n",
       "      <td>8.632485</td>\n",
       "      <td>0.115561</td>\n",
       "      <td>0.109700</td>\n",
       "      <td>6.465333</td>\n",
       "      <td>0.189202</td>\n",
       "      <td>0.152287</td>\n",
       "      <td>6.617187</td>\n",
       "      <td>0.022310</td>\n",
       "      <td>0.015401</td>\n",
       "      <td>6.637325</td>\n",
       "      <td>0.023348</td>\n",
       "      <td>0.016352</td>\n",
       "    </tr>\n",
       "    <tr>\n",
       "      <th>snipw</th>\n",
       "      <td>9.591253</td>\n",
       "      <td>0.325402</td>\n",
       "      <td>0.342591</td>\n",
       "      <td>8.831989</td>\n",
       "      <td>0.270674</td>\n",
       "      <td>0.359907</td>\n",
       "      <td>8.660504</td>\n",
       "      <td>0.333121</td>\n",
       "      <td>0.317185</td>\n",
       "      <td>6.477880</td>\n",
       "      <td>0.291684</td>\n",
       "      <td>0.330796</td>\n",
       "      <td>6.642973</td>\n",
       "      <td>0.024641</td>\n",
       "      <td>0.021048</td>\n",
       "      <td>6.637268</td>\n",
       "      <td>0.024535</td>\n",
       "      <td>0.017818</td>\n",
       "    </tr>\n",
       "  </tbody>\n",
       "</table>\n",
       "</div>"
      ],
      "text/plain": [
       "           Optimal IPW  Optimal IPW_lower  Optimal IPW_upper      GBDT  \\\n",
       "ipw           9.591253           0.325402           0.342591  8.819035   \n",
       "dm            8.387616           0.005214           0.005080  8.544824   \n",
       "dr            9.604341           0.110728           0.115794  8.793981   \n",
       "switch-dr     9.604341           0.110728           0.115794  8.793981   \n",
       "snipw         9.591253           0.325402           0.342591  8.831989   \n",
       "\n",
       "           GBDT_lower  GBDT_upper  Optimal IRT  Optimal IRT_lower  \\\n",
       "ipw          0.270277    0.359379     8.646032           0.332565   \n",
       "dm           0.005010    0.003908     8.516306           0.005044   \n",
       "dr           0.073597    0.107347     8.632485           0.115561   \n",
       "switch-dr    0.073597    0.107347     8.632485           0.115561   \n",
       "snipw        0.270674    0.359907     8.660504           0.333121   \n",
       "\n",
       "           Optimal IRT_upper  Closestmiddle  Closestmiddle_lower  \\\n",
       "ipw                 0.316655       6.365240             0.286612   \n",
       "dm                  0.004129       6.317400             0.003739   \n",
       "dr                  0.109700       6.465333             0.189202   \n",
       "switch-dr           0.109700       6.465333             0.189202   \n",
       "snipw               0.317185       6.477880             0.291684   \n",
       "\n",
       "           Closestmiddle_upper    Random  Random_lower  Random_upper  \\\n",
       "ipw                   0.325044  6.606349      0.024505      0.020932   \n",
       "dm                    0.003085  6.618720      0.006514      0.005738   \n",
       "dr                    0.152287  6.617187      0.022310      0.015401   \n",
       "switch-dr             0.152287  6.617187      0.022310      0.015401   \n",
       "snipw                 0.330796  6.642973      0.024641      0.021048   \n",
       "\n",
       "           Behavior  Behavior_lower  Behavior_upper  \n",
       "ipw        6.637268        0.024535        0.017818  \n",
       "dm         6.637490        0.005525        0.004738  \n",
       "dr         6.637325        0.023348        0.016352  \n",
       "switch-dr  6.637325        0.023348        0.016352  \n",
       "snipw      6.637268        0.024535        0.017818  "
      ]
     },
     "execution_count": 99,
     "metadata": {},
     "output_type": "execute_result"
    }
   ],
   "source": [
    "import pandas as pd\n",
    "\n",
    "LOWER = results['Optimal IPW'].columns[1]\n",
    "UPPER = results['Optimal IPW'].columns[2]\n",
    "\n",
    "results_df = pd.DataFrame()\n",
    "for name in policy_order:\n",
    "    results_df[name] = results[name]['mean']\n",
    "    results_df[name + '_lower'] = results[name]['mean'] - results[name][LOWER]\n",
    "    results_df[name + '_upper'] = results[name][UPPER] - results[name]['mean']\n",
    "results_df"
   ]
  },
  {
   "cell_type": "code",
   "execution_count": 100,
   "id": "2c747109",
   "metadata": {},
   "outputs": [
    {
     "data": {
      "text/html": [
       "<div>\n",
       "<style scoped>\n",
       "    .dataframe tbody tr th:only-of-type {\n",
       "        vertical-align: middle;\n",
       "    }\n",
       "\n",
       "    .dataframe tbody tr th {\n",
       "        vertical-align: top;\n",
       "    }\n",
       "\n",
       "    .dataframe thead th {\n",
       "        text-align: right;\n",
       "    }\n",
       "</style>\n",
       "<table border=\"1\" class=\"dataframe\">\n",
       "  <thead>\n",
       "    <tr style=\"text-align: right;\">\n",
       "      <th></th>\n",
       "      <th>ipw</th>\n",
       "      <th>dm</th>\n",
       "      <th>dr</th>\n",
       "      <th>switch-dr</th>\n",
       "      <th>snipw</th>\n",
       "    </tr>\n",
       "  </thead>\n",
       "  <tbody>\n",
       "    <tr>\n",
       "      <th>Optimal IPW</th>\n",
       "      <td>9.591</td>\n",
       "      <td>8.388</td>\n",
       "      <td>9.604</td>\n",
       "      <td>9.604</td>\n",
       "      <td>9.591</td>\n",
       "    </tr>\n",
       "    <tr>\n",
       "      <th>GBDT</th>\n",
       "      <td>8.819</td>\n",
       "      <td>8.545</td>\n",
       "      <td>8.794</td>\n",
       "      <td>8.794</td>\n",
       "      <td>8.832</td>\n",
       "    </tr>\n",
       "    <tr>\n",
       "      <th>Optimal IRT</th>\n",
       "      <td>8.646</td>\n",
       "      <td>8.516</td>\n",
       "      <td>8.632</td>\n",
       "      <td>8.632</td>\n",
       "      <td>8.661</td>\n",
       "    </tr>\n",
       "    <tr>\n",
       "      <th>Closestmiddle</th>\n",
       "      <td>6.365</td>\n",
       "      <td>6.317</td>\n",
       "      <td>6.465</td>\n",
       "      <td>6.465</td>\n",
       "      <td>6.478</td>\n",
       "    </tr>\n",
       "    <tr>\n",
       "      <th>Random</th>\n",
       "      <td>6.606</td>\n",
       "      <td>6.619</td>\n",
       "      <td>6.617</td>\n",
       "      <td>6.617</td>\n",
       "      <td>6.643</td>\n",
       "    </tr>\n",
       "    <tr>\n",
       "      <th>Behavior</th>\n",
       "      <td>6.637</td>\n",
       "      <td>6.637</td>\n",
       "      <td>6.637</td>\n",
       "      <td>6.637</td>\n",
       "      <td>6.637</td>\n",
       "    </tr>\n",
       "  </tbody>\n",
       "</table>\n",
       "</div>"
      ],
      "text/plain": [
       "                 ipw     dm     dr  switch-dr  snipw\n",
       "Optimal IPW    9.591  8.388  9.604      9.604  9.591\n",
       "GBDT           8.819  8.545  8.794      8.794  8.832\n",
       "Optimal IRT    8.646  8.516  8.632      8.632  8.661\n",
       "Closestmiddle  6.365  6.317  6.465      6.465  6.478\n",
       "Random         6.606  6.619  6.617      6.617  6.643\n",
       "Behavior       6.637  6.637  6.637      6.637  6.637"
      ]
     },
     "execution_count": 100,
     "metadata": {},
     "output_type": "execute_result"
    }
   ],
   "source": [
    "results_df[policy_order].round(3).T"
   ]
  },
  {
   "cell_type": "code",
   "execution_count": 88,
   "id": "7ae698e2",
   "metadata": {},
   "outputs": [],
   "source": [
    "upper_columns = [column + '_upper' for column in policy_order]\n",
    "lower_columns = [column + '_lower' for column in policy_order]"
   ]
  },
  {
   "cell_type": "code",
   "execution_count": 89,
   "id": "343fdc46",
   "metadata": {},
   "outputs": [],
   "source": [
    "pretty_data = {\n",
    "    'robo': 'RoboMission',\n",
    "    'assistments': 'Assistments',\n",
    "    'elo': 'Elo-based',\n",
    "    'minimax': 'minimax'\n",
    "}"
   ]
  },
  {
   "cell_type": "code",
   "execution_count": 90,
   "id": "aadf3c19",
   "metadata": {},
   "outputs": [
    {
     "name": "stdout",
     "output_type": "stream",
     "text": [
      "5 5 5\n",
      "5 5 5\n"
     ]
    },
    {
     "data": {
      "image/png": "[encoded data removed]",
      "text/plain": [
       "<Figure size 700x500 with 1 Axes>"
      ]
     },
     "metadata": {},
     "output_type": "display_data"
    }
   ],
   "source": [
    "import numpy as np\n",
    "import matplotlib.pyplot as plt\n",
    "\n",
    "x = np.arange(len(policy_order))  # the label locations\n",
    "width = 0.3  # the width of the bars\n",
    "multiplier = 0\n",
    "\n",
    "fig, ax = plt.subplots(layout='constrained', figsize=(7, 5))\n",
    "\n",
    "pretty_name = {\n",
    "    'ipw': '$V_{IPW}$',\n",
    "    'dm': '$V_{GBDT}$',\n",
    "    # 'dr': '$V_{C}$',\n",
    "    # 'switch-dr': '$V_{SDR}$',\n",
    "    # 'snipw': '$V_{SNIPW}$'\n",
    "}\n",
    "\n",
    "for name in results_df.index:\n",
    "    if name in pretty_name:\n",
    "        offset = width * multiplier\n",
    "        measurement = results_df.loc[name, policy_order]\n",
    "        print(len(x), len(measurement), len(lower_columns))\n",
    "        rects = ax.bar(x + offset, measurement.round(1), width, label=pretty_name[name], yerr=np.stack(\n",
    "            (results_df.loc[name, lower_columns], results_df.loc[name, upper_columns])))\n",
    "        ax.bar_label(rects, padding=3)\n",
    "        multiplier += 1\n",
    "\n",
    "# Add some text for labels, title and custom x-axis tick labels, etc.\n",
    "ax.set_ylabel('Estimated Policy Value (95% CI)')\n",
    "ax.set_xlabel('Policies')\n",
    "ax.set_title(f'Comparing learned policies on {pretty_data[DATA]} with {pretty_data[CONTEXT]} contexts')\n",
    "ax.set_xticks(x + width / 2, [policy_title[name] for name in policy_order])\n",
    "ax.legend(loc='upper right', ncols=3)\n",
    "# ax.set_ylim(0, 250)\n",
    "\n",
    "# DATA = 'assistments-minimax'\n",
    "\n",
    "plt.style.use('default')\n",
    "plt.savefig(f'{DATA}-{CONTEXT}-new.pdf')\n",
    "plt.savefig(f'{DATA}-{CONTEXT}-new.png')\n",
    "plt.show()"
   ]
  },
  {
   "cell_type": "code",
   "execution_count": 25,
   "id": "cbacb518",
   "metadata": {},
   "outputs": [
    {
     "data": {
      "text/plain": [
       "'GBDT'"
      ]
     },
     "execution_count": 25,
     "metadata": {},
     "output_type": "execute_result"
    }
   ],
   "source": [
    "backup['policies'][2][0]"
   ]
  },
  {
   "cell_type": "code",
   "execution_count": 26,
   "id": "ff8d8664",
   "metadata": {},
   "outputs": [
    {
     "data": {
      "text/plain": [
       "'Optimal IPW'"
      ]
     },
     "execution_count": 26,
     "metadata": {},
     "output_type": "execute_result"
    }
   ],
   "source": [
    "backup['policies'][1][0]"
   ]
  },
  {
   "cell_type": "code",
   "execution_count": 28,
   "id": "dccc514a",
   "metadata": {},
   "outputs": [
    {
     "data": {
      "text/plain": [
       "'Behavior'"
      ]
     },
     "execution_count": 28,
     "metadata": {},
     "output_type": "execute_result"
    }
   ],
   "source": [
    "backup['policies'][3][0]"
   ]
  },
  {
   "cell_type": "code",
   "execution_count": 85,
   "id": "9df018a0",
   "metadata": {},
   "outputs": [
    {
     "data": {
      "text/plain": [
       "(285811, 85, 1)"
      ]
     },
     "execution_count": 85,
     "metadata": {},
     "output_type": "execute_result"
    }
   ],
   "source": [
    "backup['policies'][3][1].shape"
   ]
  },
  {
   "cell_type": "code",
   "execution_count": 87,
   "id": "fbb9e17a",
   "metadata": {},
   "outputs": [
    {
     "data": {
      "text/plain": [
       "array([1.46922815, 1.19121064, 1.63080714, ..., 0.79034666, 2.10888898,\n",
       "       0.        ])"
      ]
     },
     "execution_count": 87,
     "metadata": {},
     "output_type": "execute_result"
    }
   ],
   "source": [
    "backup['feedback']['reward']"
   ]
  },
  {
   "cell_type": "code",
   "execution_count": 96,
   "id": "511dca8f",
   "metadata": {},
   "outputs": [
    {
     "data": {
      "text/plain": [
       "array([[1.28346014],\n",
       "       [1.05550308],\n",
       "       [1.63085876],\n",
       "       ...,\n",
       "       [0.79065646],\n",
       "       [2.06861405],\n",
       "       [3.41515893]])"
      ]
     },
     "execution_count": 96,
     "metadata": {},
     "output_type": "execute_result"
    }
   ],
   "source": [
    "backup['estimated_rewards_by_reg_model'][np.arange(285811), list(backup['feedback']['action'])]"
   ]
  },
  {
   "cell_type": "code",
   "execution_count": 78,
   "id": "31429934",
   "metadata": {},
   "outputs": [
    {
     "data": {
      "text/plain": [
       "6.5"
      ]
     },
     "execution_count": 78,
     "metadata": {},
     "output_type": "execute_result"
    }
   ],
   "source": [
    "backup['feedback']['context'].max()"
   ]
  },
  {
   "cell_type": "code",
   "execution_count": 63,
   "id": "af2400c8",
   "metadata": {},
   "outputs": [
    {
     "data": {
      "text/plain": [
       "(285811,)"
      ]
     },
     "execution_count": 63,
     "metadata": {},
     "output_type": "execute_result"
    }
   ],
   "source": [
    "backup['feedback']['pscore'].shape"
   ]
  },
  {
   "cell_type": "code",
   "execution_count": 83,
   "id": "bca9b8bb",
   "metadata": {},
   "outputs": [
    {
     "data": {
      "text/plain": [
       "array([ 5,  3,  6, ...,  1,  9, 12])"
      ]
     },
     "execution_count": 83,
     "metadata": {},
     "output_type": "execute_result"
    }
   ],
   "source": [
    "backup['feedback']['action']"
   ]
  },
  {
   "cell_type": "code",
   "execution_count": 109,
   "id": "a248e7c6",
   "metadata": {},
   "outputs": [
    {
     "data": {
      "text/plain": [
       "3.3027355111610857"
      ]
     },
     "execution_count": 109,
     "metadata": {},
     "output_type": "execute_result"
    }
   ],
   "source": [
    "((backup['policies'][2][1][np.arange(285811), backup['feedback']['action']].squeeze() * backup['feedback']['reward']) / backup['feedback']['pscore']).mean()"
   ]
  },
  {
   "cell_type": "code",
   "execution_count": 81,
   "id": "d4bc7ac6",
   "metadata": {},
   "outputs": [
    {
     "data": {
      "text/plain": [
       "264.14372171684585"
      ]
     },
     "execution_count": 81,
     "metadata": {},
     "output_type": "execute_result"
    }
   ],
   "source": [
    "((backup['policies'][2][1] * backup['estimated_rewards_by_reg_model']).sum(axis=2).sum(axis=1) / backup['feedback']['pscore']).mean()"
   ]
  },
  {
   "cell_type": "code",
   "execution_count": 97,
   "id": "a21e6a23",
   "metadata": {},
   "outputs": [
    {
     "ename": "MemoryError",
     "evalue": "Unable to allocate 50.5 TiB for an array with shape (285811, 85, 285811) and data type float64",
     "output_type": "error",
     "traceback": [
      "\u001b[0;31m---------------------------------------------------------------------------\u001b[0m",
      "\u001b[0;31mMemoryError\u001b[0m                               Traceback (most recent call last)",
      "Input \u001b[0;32mIn [97]\u001b[0m, in \u001b[0;36m<cell line: 1>\u001b[0;34m()\u001b[0m\n\u001b[0;32m----> 1\u001b[0m ((\u001b[43mbackup\u001b[49m\u001b[43m[\u001b[49m\u001b[38;5;124;43m'\u001b[39;49m\u001b[38;5;124;43mpolicies\u001b[39;49m\u001b[38;5;124;43m'\u001b[39;49m\u001b[43m]\u001b[49m\u001b[43m[\u001b[49m\u001b[38;5;241;43m2\u001b[39;49m\u001b[43m]\u001b[49m\u001b[43m[\u001b[49m\u001b[38;5;241;43m1\u001b[39;49m\u001b[43m]\u001b[49m\u001b[43m[\u001b[49m\u001b[43mbackup\u001b[49m\u001b[43m[\u001b[49m\u001b[38;5;124;43m'\u001b[39;49m\u001b[38;5;124;43mfeedback\u001b[39;49m\u001b[38;5;124;43m'\u001b[39;49m\u001b[43m]\u001b[49m\u001b[43m[\u001b[49m\u001b[38;5;124;43m'\u001b[39;49m\u001b[38;5;124;43maction\u001b[39;49m\u001b[38;5;124;43m'\u001b[39;49m\u001b[43m]\u001b[49m\u001b[43m]\u001b[49m\u001b[43m \u001b[49m\u001b[38;5;241;43m*\u001b[39;49m\u001b[43m \u001b[49m\u001b[43mbackup\u001b[49m\u001b[43m[\u001b[49m\u001b[38;5;124;43m'\u001b[39;49m\u001b[38;5;124;43mfeedback\u001b[39;49m\u001b[38;5;124;43m'\u001b[39;49m\u001b[43m]\u001b[49m\u001b[43m[\u001b[49m\u001b[38;5;124;43m'\u001b[39;49m\u001b[38;5;124;43mreward\u001b[39;49m\u001b[38;5;124;43m'\u001b[39;49m\u001b[43m]\u001b[49m)\u001b[38;5;241m.\u001b[39msum(axis\u001b[38;5;241m=\u001b[39m\u001b[38;5;241m2\u001b[39m)\u001b[38;5;241m.\u001b[39msum(axis\u001b[38;5;241m=\u001b[39m\u001b[38;5;241m1\u001b[39m) \u001b[38;5;241m/\u001b[39m backup[\u001b[38;5;124m'\u001b[39m\u001b[38;5;124mfeedback\u001b[39m\u001b[38;5;124m'\u001b[39m][\u001b[38;5;124m'\u001b[39m\u001b[38;5;124mpscore\u001b[39m\u001b[38;5;124m'\u001b[39m])\u001b[38;5;241m.\u001b[39mmean()\n",
      "\u001b[0;31mMemoryError\u001b[0m: Unable to allocate 50.5 TiB for an array with shape (285811, 85, 285811) and data type float64"
     ]
    }
   ],
   "source": [
    "((backup['policies'][2][1][backup['feedback']['action']] * backup['feedback']['reward']).sum(axis=2).sum(axis=1) / backup['feedback']['pscore']).mean()"
   ]
  },
  {
   "cell_type": "code",
   "execution_count": 61,
   "id": "511641d1",
   "metadata": {},
   "outputs": [
    {
     "ename": "MemoryError",
     "evalue": "Unable to allocate 50.5 TiB for an array with shape (285811, 85, 285811) and data type float64",
     "output_type": "error",
     "traceback": [
      "\u001b[0;31m---------------------------------------------------------------------------\u001b[0m",
      "\u001b[0;31mMemoryError\u001b[0m                               Traceback (most recent call last)",
      "Input \u001b[0;32mIn [61]\u001b[0m, in \u001b[0;36m<cell line: 1>\u001b[0;34m()\u001b[0m\n\u001b[0;32m----> 1\u001b[0m \u001b[43mbackup\u001b[49m\u001b[43m[\u001b[49m\u001b[38;5;124;43m'\u001b[39;49m\u001b[38;5;124;43mpolicies\u001b[39;49m\u001b[38;5;124;43m'\u001b[39;49m\u001b[43m]\u001b[49m\u001b[43m[\u001b[49m\u001b[38;5;241;43m2\u001b[39;49m\u001b[43m]\u001b[49m\u001b[43m[\u001b[49m\u001b[38;5;241;43m1\u001b[39;49m\u001b[43m]\u001b[49m\u001b[43m \u001b[49m\u001b[38;5;241;43m/\u001b[39;49m\u001b[43m \u001b[49m\u001b[43mbackup\u001b[49m\u001b[43m[\u001b[49m\u001b[38;5;124;43m'\u001b[39;49m\u001b[38;5;124;43mfeedback\u001b[39;49m\u001b[38;5;124;43m'\u001b[39;49m\u001b[43m]\u001b[49m\u001b[43m[\u001b[49m\u001b[38;5;124;43m'\u001b[39;49m\u001b[38;5;124;43mpscore\u001b[39;49m\u001b[38;5;124;43m'\u001b[39;49m\u001b[43m]\u001b[49m\n",
      "\u001b[0;31mMemoryError\u001b[0m: Unable to allocate 50.5 TiB for an array with shape (285811, 85, 285811) and data type float64"
     ]
    }
   ],
   "source": [
    "backup['policies'][2][1] / backup['feedback']['pscore']"
   ]
  },
  {
   "cell_type": "code",
   "execution_count": 35,
   "id": "c00d852d",
   "metadata": {},
   "outputs": [
    {
     "name": "stderr",
     "output_type": "stream",
     "text": [
      "/tmp/ipykernel_42561/1291607295.py:1: RuntimeWarning: divide by zero encountered in divide\n",
      "  values = np.nan_to_num(backup['policies'][2][1] / backup['policies'][3][1] * backup['estimated_rewards_by_reg_model'])\n",
      "/tmp/ipykernel_42561/1291607295.py:1: RuntimeWarning: invalid value encountered in divide\n",
      "  values = np.nan_to_num(backup['policies'][2][1] / backup['policies'][3][1] * backup['estimated_rewards_by_reg_model'])\n"
     ]
    },
    {
     "data": {
      "text/plain": [
       "0.0"
      ]
     },
     "execution_count": 35,
     "metadata": {},
     "output_type": "execute_result"
    }
   ],
   "source": [
    "values = np.nan_to_num(backup['policies'][2][1] / backup['policies'][3][1] * backup['estimated_rewards_by_reg_model'])\n",
    "values.min()"
   ]
  },
  {
   "cell_type": "code",
   "execution_count": 50,
   "id": "708ab040",
   "metadata": {},
   "outputs": [
    {
     "data": {
      "text/plain": [
       "1.7976931348623157e+308"
      ]
     },
     "execution_count": 50,
     "metadata": {},
     "output_type": "execute_result"
    }
   ],
   "source": [
    "values.max()"
   ]
  },
  {
   "cell_type": "code",
   "execution_count": 55,
   "id": "175d8ebe",
   "metadata": {},
   "outputs": [
    {
     "data": {
      "text/plain": [
       "array([[3.06114051e+004],\n",
       "       [3.06114051e+004],\n",
       "       [1.79769313e+308],\n",
       "       ...,\n",
       "       [1.79769313e+308],\n",
       "       [1.79769313e+308],\n",
       "       [4.30119009e+004]])"
      ]
     },
     "execution_count": 55,
     "metadata": {},
     "output_type": "execute_result"
    }
   ],
   "source": [
    "values.sum(axis=1)"
   ]
  },
  {
   "cell_type": "code",
   "execution_count": 48,
   "id": "524e9f92",
   "metadata": {},
   "outputs": [
    {
     "name": "stderr",
     "output_type": "stream",
     "text": [
      "/tmp/ipykernel_42561/2403510127.py:1: RuntimeWarning: divide by zero encountered in divide\n",
      "  backup['policies'][2][1][209, 25] / backup['policies'][3][1][209, 25]\n"
     ]
    },
    {
     "data": {
      "text/plain": [
       "array([inf])"
      ]
     },
     "execution_count": 48,
     "metadata": {},
     "output_type": "execute_result"
    }
   ],
   "source": [
    "backup['policies'][2][1][209, 25] / backup['policies'][3][1][209, 25]"
   ]
  },
  {
   "cell_type": "code",
   "execution_count": 46,
   "id": "bdd27b78",
   "metadata": {},
   "outputs": [
    {
     "data": {
      "text/plain": [
       "[(0, array([0.]), array([0.])),\n",
       " (1, array([0.]), array([0.])),\n",
       " (2, array([0.]), array([0.03225806])),\n",
       " (3, array([0.]), array([0.03225806])),\n",
       " (4, array([0.]), array([0.09677419])),\n",
       " (5, array([0.]), array([0.])),\n",
       " (6, array([0.]), array([0.06451613])),\n",
       " (7, array([0.]), array([0.12903226])),\n",
       " (8, array([0.]), array([0.])),\n",
       " (9, array([0.]), array([0.12903226])),\n",
       " (10, array([0.]), array([0.12903226])),\n",
       " (11, array([0.]), array([0.16129032])),\n",
       " (12, array([0.]), array([0.09677419])),\n",
       " (13, array([0.]), array([0.])),\n",
       " (14, array([0.]), array([0.])),\n",
       " (15, array([0.]), array([0.])),\n",
       " (16, array([0.]), array([0.03225806])),\n",
       " (17, array([0.]), array([0.03225806])),\n",
       " (18, array([0.]), array([0.])),\n",
       " (19, array([0.]), array([0.])),\n",
       " (20, array([0.]), array([0.])),\n",
       " (21, array([0.]), array([0.])),\n",
       " (22, array([0.]), array([0.])),\n",
       " (23, array([0.]), array([0.])),\n",
       " (24, array([0.]), array([0.06451613])),\n",
       " (25, array([1.]), array([0.])),\n",
       " (26, array([0.]), array([0.])),\n",
       " (27, array([0.]), array([0.])),\n",
       " (28, array([0.]), array([0.])),\n",
       " (29, array([0.]), array([0.])),\n",
       " (30, array([0.]), array([0.])),\n",
       " (31, array([0.]), array([0.])),\n",
       " (32, array([0.]), array([0.])),\n",
       " (33, array([0.]), array([0.])),\n",
       " (34, array([0.]), array([0.])),\n",
       " (35, array([0.]), array([0.])),\n",
       " (36, array([0.]), array([0.])),\n",
       " (37, array([0.]), array([0.])),\n",
       " (38, array([0.]), array([0.])),\n",
       " (39, array([0.]), array([0.])),\n",
       " (40, array([0.]), array([0.])),\n",
       " (41, array([0.]), array([0.])),\n",
       " (42, array([0.]), array([0.])),\n",
       " (43, array([0.]), array([0.])),\n",
       " (44, array([0.]), array([0.])),\n",
       " (45, array([0.]), array([0.])),\n",
       " (46, array([0.]), array([0.])),\n",
       " (47, array([0.]), array([0.])),\n",
       " (48, array([0.]), array([0.])),\n",
       " (49, array([0.]), array([0.])),\n",
       " (50, array([0.]), array([0.])),\n",
       " (51, array([0.]), array([0.])),\n",
       " (52, array([0.]), array([0.])),\n",
       " (53, array([0.]), array([0.])),\n",
       " (54, array([0.]), array([0.])),\n",
       " (55, array([0.]), array([0.])),\n",
       " (56, array([0.]), array([0.])),\n",
       " (57, array([0.]), array([0.])),\n",
       " (58, array([0.]), array([0.])),\n",
       " (59, array([0.]), array([0.])),\n",
       " (60, array([0.]), array([0.])),\n",
       " (61, array([0.]), array([0.])),\n",
       " (62, array([0.]), array([0.])),\n",
       " (63, array([0.]), array([0.])),\n",
       " (64, array([0.]), array([0.])),\n",
       " (65, array([0.]), array([0.])),\n",
       " (66, array([0.]), array([0.])),\n",
       " (67, array([0.]), array([0.])),\n",
       " (68, array([0.]), array([0.])),\n",
       " (69, array([0.]), array([0.])),\n",
       " (70, array([0.]), array([0.])),\n",
       " (71, array([0.]), array([0.])),\n",
       " (72, array([0.]), array([0.])),\n",
       " (73, array([0.]), array([0.])),\n",
       " (74, array([0.]), array([0.])),\n",
       " (75, array([0.]), array([0.])),\n",
       " (76, array([0.]), array([0.])),\n",
       " (77, array([0.]), array([0.])),\n",
       " (78, array([0.]), array([0.])),\n",
       " (79, array([0.]), array([0.])),\n",
       " (80, array([0.]), array([0.])),\n",
       " (81, array([0.]), array([0.])),\n",
       " (82, array([0.]), array([0.])),\n",
       " (83, array([0.]), array([0.])),\n",
       " (84, array([0.]), array([0.]))]"
      ]
     },
     "execution_count": 46,
     "metadata": {},
     "output_type": "execute_result"
    }
   ],
   "source": [
    "list(zip(range(1000), backup['policies'][2][1][209], backup['policies'][3][1][209]))"
   ]
  },
  {
   "cell_type": "code",
   "execution_count": 43,
   "id": "10c75f5b",
   "metadata": {},
   "outputs": [
    {
     "data": {
      "text/plain": [
       "array([[0.        ],\n",
       "       [0.        ],\n",
       "       [0.03225806],\n",
       "       [0.03225806],\n",
       "       [0.09677419],\n",
       "       [0.        ],\n",
       "       [0.06451613],\n",
       "       [0.12903226],\n",
       "       [0.        ],\n",
       "       [0.12903226],\n",
       "       [0.12903226],\n",
       "       [0.16129032],\n",
       "       [0.09677419],\n",
       "       [0.        ],\n",
       "       [0.        ],\n",
       "       [0.        ],\n",
       "       [0.03225806],\n",
       "       [0.03225806],\n",
       "       [0.        ],\n",
       "       [0.        ],\n",
       "       [0.        ],\n",
       "       [0.        ],\n",
       "       [0.        ],\n",
       "       [0.        ],\n",
       "       [0.06451613],\n",
       "       [0.        ],\n",
       "       [0.        ],\n",
       "       [0.        ],\n",
       "       [0.        ],\n",
       "       [0.        ],\n",
       "       [0.        ],\n",
       "       [0.        ],\n",
       "       [0.        ],\n",
       "       [0.        ],\n",
       "       [0.        ],\n",
       "       [0.        ],\n",
       "       [0.        ],\n",
       "       [0.        ],\n",
       "       [0.        ],\n",
       "       [0.        ],\n",
       "       [0.        ],\n",
       "       [0.        ],\n",
       "       [0.        ],\n",
       "       [0.        ],\n",
       "       [0.        ],\n",
       "       [0.        ],\n",
       "       [0.        ],\n",
       "       [0.        ],\n",
       "       [0.        ],\n",
       "       [0.        ],\n",
       "       [0.        ],\n",
       "       [0.        ],\n",
       "       [0.        ],\n",
       "       [0.        ],\n",
       "       [0.        ],\n",
       "       [0.        ],\n",
       "       [0.        ],\n",
       "       [0.        ],\n",
       "       [0.        ],\n",
       "       [0.        ],\n",
       "       [0.        ],\n",
       "       [0.        ],\n",
       "       [0.        ],\n",
       "       [0.        ],\n",
       "       [0.        ],\n",
       "       [0.        ],\n",
       "       [0.        ],\n",
       "       [0.        ],\n",
       "       [0.        ],\n",
       "       [0.        ],\n",
       "       [0.        ],\n",
       "       [0.        ],\n",
       "       [0.        ],\n",
       "       [0.        ],\n",
       "       [0.        ],\n",
       "       [0.        ],\n",
       "       [0.        ],\n",
       "       [0.        ],\n",
       "       [0.        ],\n",
       "       [0.        ],\n",
       "       [0.        ],\n",
       "       [0.        ],\n",
       "       [0.        ],\n",
       "       [0.        ],\n",
       "       [0.        ]])"
      ]
     },
     "execution_count": 43,
     "metadata": {},
     "output_type": "execute_result"
    }
   ],
   "source": []
  },
  {
   "cell_type": "code",
   "execution_count": 40,
   "id": "3b98c1c0",
   "metadata": {},
   "outputs": [
    {
     "data": {
      "text/plain": [
       "array([[0.00000000e+000],\n",
       "       [0.00000000e+000],\n",
       "       [0.00000000e+000],\n",
       "       [0.00000000e+000],\n",
       "       [0.00000000e+000],\n",
       "       [0.00000000e+000],\n",
       "       [0.00000000e+000],\n",
       "       [0.00000000e+000],\n",
       "       [0.00000000e+000],\n",
       "       [0.00000000e+000],\n",
       "       [0.00000000e+000],\n",
       "       [0.00000000e+000],\n",
       "       [0.00000000e+000],\n",
       "       [0.00000000e+000],\n",
       "       [0.00000000e+000],\n",
       "       [0.00000000e+000],\n",
       "       [0.00000000e+000],\n",
       "       [0.00000000e+000],\n",
       "       [0.00000000e+000],\n",
       "       [0.00000000e+000],\n",
       "       [0.00000000e+000],\n",
       "       [0.00000000e+000],\n",
       "       [0.00000000e+000],\n",
       "       [0.00000000e+000],\n",
       "       [0.00000000e+000],\n",
       "       [1.79769313e+308],\n",
       "       [0.00000000e+000],\n",
       "       [0.00000000e+000],\n",
       "       [0.00000000e+000],\n",
       "       [0.00000000e+000],\n",
       "       [0.00000000e+000],\n",
       "       [0.00000000e+000],\n",
       "       [0.00000000e+000],\n",
       "       [0.00000000e+000],\n",
       "       [0.00000000e+000],\n",
       "       [0.00000000e+000],\n",
       "       [0.00000000e+000],\n",
       "       [0.00000000e+000],\n",
       "       [0.00000000e+000],\n",
       "       [0.00000000e+000],\n",
       "       [0.00000000e+000],\n",
       "       [0.00000000e+000],\n",
       "       [0.00000000e+000],\n",
       "       [0.00000000e+000],\n",
       "       [0.00000000e+000],\n",
       "       [0.00000000e+000],\n",
       "       [0.00000000e+000],\n",
       "       [0.00000000e+000],\n",
       "       [0.00000000e+000],\n",
       "       [0.00000000e+000],\n",
       "       [0.00000000e+000],\n",
       "       [0.00000000e+000],\n",
       "       [0.00000000e+000],\n",
       "       [0.00000000e+000],\n",
       "       [0.00000000e+000],\n",
       "       [0.00000000e+000],\n",
       "       [0.00000000e+000],\n",
       "       [0.00000000e+000],\n",
       "       [0.00000000e+000],\n",
       "       [0.00000000e+000],\n",
       "       [0.00000000e+000],\n",
       "       [0.00000000e+000],\n",
       "       [0.00000000e+000],\n",
       "       [0.00000000e+000],\n",
       "       [0.00000000e+000],\n",
       "       [0.00000000e+000],\n",
       "       [0.00000000e+000],\n",
       "       [0.00000000e+000],\n",
       "       [0.00000000e+000],\n",
       "       [0.00000000e+000],\n",
       "       [0.00000000e+000],\n",
       "       [0.00000000e+000],\n",
       "       [0.00000000e+000],\n",
       "       [0.00000000e+000],\n",
       "       [0.00000000e+000],\n",
       "       [0.00000000e+000],\n",
       "       [0.00000000e+000],\n",
       "       [0.00000000e+000],\n",
       "       [0.00000000e+000],\n",
       "       [0.00000000e+000],\n",
       "       [0.00000000e+000],\n",
       "       [0.00000000e+000],\n",
       "       [0.00000000e+000],\n",
       "       [0.00000000e+000],\n",
       "       [0.00000000e+000]])"
      ]
     },
     "execution_count": 40,
     "metadata": {},
     "output_type": "execute_result"
    }
   ],
   "source": [
    "values[209]"
   ]
  },
  {
   "cell_type": "code",
   "execution_count": null,
   "id": "c0f3fb0e",
   "metadata": {},
   "outputs": [],
   "source": []
  }
 ],
 "metadata": {
  "kernelspec": {
   "display_name": "Python 3 (ipykernel)",
   "language": "python",
   "name": "python3"
  },
  "language_info": {
   "codemirror_mode": {
    "name": "ipython",
    "version": 3
   },
   "file_extension": ".py",
   "mimetype": "text/x-python",
   "name": "python",
   "nbconvert_exporter": "python",
   "pygments_lexer": "ipython3",
   "version": "3.10.12"
  }
 },
 "nbformat": 4,
 "nbformat_minor": 5
}
